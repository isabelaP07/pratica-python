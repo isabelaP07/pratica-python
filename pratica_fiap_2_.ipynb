{
  "nbformat": 4,
  "nbformat_minor": 0,
  "metadata": {
    "colab": {
      "provenance": []
    },
    "kernelspec": {
      "name": "python3",
      "display_name": "Python 3"
    },
    "language_info": {
      "name": "python"
    }
  },
  "cells": [
    {
      "cell_type": "code",
      "execution_count": null,
      "metadata": {
        "colab": {
          "base_uri": "https://localhost:8080/"
        },
        "id": "hmzLry88QiFw",
        "outputId": "a85ab58a-f323-48d8-af76-9cabad7c4db2"
      },
      "outputs": [
        {
          "output_type": "stream",
          "name": "stdout",
          "text": [
            "Dia da semana\n",
            "Informe um numero de 1 a 7: 6\n",
            "Sexta\n"
          ]
        }
      ],
      "source": [
        "print(\"Dia da semana\")\n",
        "dia = int(input(\"Informe um numero de 1 a 7: \"))\n",
        "\n",
        "match dia:\n",
        "    case 1:\n",
        "        print(\"Domingo\")\n",
        "    case 2:\n",
        "        print(\"Segunda\")\n",
        "    case 3:\n",
        "        print(\"Terça\")\n",
        "    case 4:\n",
        "        print(\"Quarta\")\n",
        "    case 5:\n",
        "        print(\"Quinta\")\n",
        "    case 6:\n",
        "        print(\"Sexta\")\n",
        "    case 7:\n",
        "        print(\"Sábado\")\n",
        "    case other:\n",
        "        print(\"Dia da semana inválido\")"
      ]
    },
    {
      "cell_type": "code",
      "source": [
        "pontuacao = input(\"Insira a pontuação do cliente: \")\n",
        "pontuacao = int(pontuacao)\n",
        "\n",
        "if pontuacao >= 1000:\n",
        "    print(\"O cliente tem direito a receber mais 3gb na sua franquia de internet!\")\n",
        "else:\n",
        "    if pontuacao >=500:\n",
        "        print(\"O cliente tem direito a receber mais 1,5gb na sua franquia de internet!\")\n",
        "    else:\n",
        "        if pontuacao >=200:\n",
        "            print(\"O cliente tem direito a receber mais 500mb na sua franquia de internet!\")\n",
        "        else:\n",
        "            print(\"O cliente não receberá bônus.\")"
      ],
      "metadata": {
        "colab": {
          "base_uri": "https://localhost:8080/"
        },
        "id": "pAswqqyQRWQ-",
        "outputId": "1d296554-b012-4a6c-b4c4-52fb4e972895"
      },
      "execution_count": null,
      "outputs": [
        {
          "output_type": "stream",
          "name": "stdout",
          "text": [
            "Insira a pontuação do cliente: 600\n",
            "O cliente tem direito a receber mais 1,5gb na sua franquia de internet!\n"
          ]
        }
      ]
    },
    {
      "cell_type": "code",
      "source": [
        "pontuacao = input(\"Insira a pontuação do cliente: \")\n",
        "pontuacao = int(pontuacao)\n",
        "\n",
        "if pontuacao >= 1000:\n",
        "    print(\"O cliente tem direito a receber mais 3gb na sua franquia de internet!\")\n",
        "elif pontuacao >=500:\n",
        "    print(\"O cliente tem direito a receber mais 1,5gb na sua franquia de internet!\")\n",
        "elif pontuacao >=200:\n",
        "    print(\"O cliente tem direito a receber mais 500mb na sua franquia de internet!\")\n",
        "else:\n",
        "    print(\"O cliente não receberá bônus.\")"
      ],
      "metadata": {
        "colab": {
          "base_uri": "https://localhost:8080/"
        },
        "id": "meZrhDoDRgUf",
        "outputId": "c12f4243-7538-49d0-952d-714629a085ec"
      },
      "execution_count": null,
      "outputs": [
        {
          "output_type": "stream",
          "name": "stdout",
          "text": [
            "Insira a pontuação do cliente: 600\n",
            "O cliente tem direito a receber mais 1,5gb na sua franquia de internet!\n"
          ]
        }
      ]
    },
    {
      "cell_type": "code",
      "source": [
        "1 == 1 and 2==2"
      ],
      "metadata": {
        "colab": {
          "base_uri": "https://localhost:8080/"
        },
        "id": "niS0jnP6SNg9",
        "outputId": "e7b0976d-8c9a-434e-f26f-fd734fde1a95"
      },
      "execution_count": null,
      "outputs": [
        {
          "output_type": "execute_result",
          "data": {
            "text/plain": [
              "True"
            ]
          },
          "metadata": {},
          "execution_count": 4
        }
      ]
    },
    {
      "cell_type": "code",
      "source": [
        "#solicitando os dados do aluno\n",
        "email_aluno = input(\"Informe o e-mail do aluno\")\n",
        "nota_semestral = input(\"Informe a nota semestral do aluno: \")\n",
        "#convertendo a nota para o formato float\n",
        "nota_semestral = float(nota_semestral)\n",
        "#realizando o teste lógico\n",
        "if nota_semestral > 8.5:\n",
        "    print(\"ENVIANDO E-MAIL PARA {}\".format(email_aluno))"
      ],
      "metadata": {
        "colab": {
          "base_uri": "https://localhost:8080/"
        },
        "id": "92f4jQulS8Fw",
        "outputId": "2ea58cd5-10a2-4232-f7b6-a8deb55a28fd"
      },
      "execution_count": null,
      "outputs": [
        {
          "output_type": "stream",
          "name": "stdout",
          "text": [
            "Informe o e-mail do alunoisabela\n",
            "Informe a nota semestral do aluno: 9\n",
            "ENVIANDO E-MAIL PARA isabela\n"
          ]
        }
      ]
    },
    {
      "cell_type": "code",
      "source": [
        "#solicitando os dados do cliente\n",
        "valor_compra = input(\"Informe o valor da compra realizada \")\n",
        "cupom = input(\"Digite o cupom de desconto \")\n",
        "#realizando o teste lógico\n",
        "if cupom == \"NIVER10\":\n",
        "    #cálculo de 10% de desconto\n",
        "    valor_final = float(valor_compra) * 0.9\n",
        "else:\n",
        "    valor_final = float(valor_compra)\n",
        "    print(\"CUPOM INVÁLIDO\")\n",
        "#exibindo o valor final da compra\n",
        "print(\"O valor final da compra é {}\".format(valor_final))"
      ],
      "metadata": {
        "colab": {
          "base_uri": "https://localhost:8080/"
        },
        "id": "gbAU-Y_nTQWY",
        "outputId": "f3b53e90-075c-47b3-ba32-8fec45a64264"
      },
      "execution_count": null,
      "outputs": [
        {
          "output_type": "stream",
          "name": "stdout",
          "text": [
            "Informe o valor da compra realizada 456\n",
            "Digite o cupom de desconto NIVER10\n",
            "O valor final da compra é 410.40000000000003\n"
          ]
        }
      ]
    },
    {
      "cell_type": "code",
      "source": [
        "minusculas = \"mestre yoda\"\n",
        "#usamos a função upper para converter a string em letras maiúsculas\n",
        "maiusculas = minusculas.upper()\n",
        "print(minusculas)\n",
        "print(maiusculas)"
      ],
      "metadata": {
        "colab": {
          "base_uri": "https://localhost:8080/"
        },
        "id": "0TpVS6rQTofy",
        "outputId": "1724d5eb-d814-40c6-f30b-84b3d19ba12b"
      },
      "execution_count": null,
      "outputs": [
        {
          "output_type": "stream",
          "name": "stdout",
          "text": [
            "mestre yoda\n",
            "MESTRE YODA\n"
          ]
        }
      ]
    },
    {
      "cell_type": "code",
      "source": [
        "#solicitando os dados do cliente\n",
        "valor_compra = input(\"Informe o valor da compra realizada \")\n",
        "cupom = input(\"Digite o cupom de desconto \")\n",
        "#realizando o teste lógico com o cupom em maiúsculas\n",
        "if cupom.upper() == \"NIVER10\":\n",
        "    #cálculo de 10% de desconto\n",
        "    valor_final = float(valor_compra) * 0.9\n",
        "else:\n",
        "    valor_final = float(valor_compra)\n",
        "    print(\"CUPOM INVÁLIDO\")\n",
        "#exibindo o valor final da compra\n",
        "print(\"O valor final da compra é {}\".format(valor_final))"
      ],
      "metadata": {
        "colab": {
          "base_uri": "https://localhost:8080/"
        },
        "id": "YgNv8B7YUUOs",
        "outputId": "25cb0e5f-145b-4751-be78-94e071036d61"
      },
      "execution_count": null,
      "outputs": [
        {
          "output_type": "stream",
          "name": "stdout",
          "text": [
            "Informe o valor da compra realizada 45\n",
            "Digite o cupom de desconto niver10\n",
            "O valor final da compra é 40.5\n"
          ]
        }
      ]
    }
  ]
}
